import numpy as np
import pandas as pd
%matplotlib inline
import matplotlib.pyplot as plt
import matplotlib as mpl
import seaborn as sn

train_orig = pd.read_csv("C:\\Users\\Kunde\\learnpy\\datasets\\titanic\\train.csv")
test_orig = pd.read_csv("C:\\Users\\Kunde\\learnpy\\datasets\\titanic\\test.csv")
gender_orig = pd.read_csv("C:\\Users\\Kunde\\learnpy\\datasets\\titanic\\gender_submission.csv")

train = train_orig.copy()
test = test_orig.copy()

train['Sex'].replace(to_replace='male', value=0 ,inplace=True)
train['Sex'].replace(to_replace='female', value=1, inplace=True)
train.drop(['Name', 'Ticket'],axis = 1, inplace=True)

#Ticketnummern des Trainingssets durch Nummer des Decks ersetzen
cabin_list = list(train['Cabin'])

def cabin_replacer(to_replace, replace_with):
    for i in range(len(cabin_list)):
        if to_replace in str(cabin_list[i]):
            cabin_list[i] = replace_with

cabin_replacer('A',1)
cabin_replacer('B',2)
cabin_replacer('C',3)        
cabin_replacer('D',4)        
cabin_replacer('E',5)        
cabin_replacer('F',6)
cabin_replacer('G',7)
cabin_replacer('T',1)


train['Cabin']=cabin_list
train['Cabin']=train['Cabin'].fillna(0)
train['Cabin'].replace(0,4, inplace=True)
#Dealing with missing age
train['Age'].fillna(train['Age'].mean(), inplace = True)
